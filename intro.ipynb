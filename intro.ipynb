{
  "nbformat": 4,
  "nbformat_minor": 0,
  "metadata": {
    "colab": {
      "name": "intro.ipynb",
      "provenance": [],
      "collapsed_sections": [],
      "authorship_tag": "ABX9TyMs+qnfdJrF8lybc7za9agk",
      "include_colab_link": true
    },
    "kernelspec": {
      "name": "python3",
      "display_name": "Python 3"
    },
    "language_info": {
      "name": "python"
    }
  },
  "cells": [
    {
      "cell_type": "markdown",
      "metadata": {
        "id": "view-in-github",
        "colab_type": "text"
      },
      "source": [
        "<a href=\"https://colab.research.google.com/github/rajkirannnaik/python-colab/blob/main/intro.ipynb\" target=\"_parent\"><img src=\"https://colab.research.google.com/assets/colab-badge.svg\" alt=\"Open In Colab\"/></a>"
      ]
    },
    {
      "cell_type": "code",
      "execution_count": 1,
      "metadata": {
        "id": "Q-sbhgaVSazZ",
        "colab": {
          "base_uri": "https://localhost:8080/"
        },
        "outputId": "d3414137-765b-4edd-a715-1ec1c82f5bc0"
      },
      "outputs": [
        {
          "output_type": "stream",
          "name": "stdout",
          "text": [
            "Hellooooo Raj\n"
          ]
        }
      ],
      "source": [
        "print('Hellooooo Raj')"
      ]
    },
    {
      "cell_type": "code",
      "source": [
        "print('Helloo test colab')"
      ],
      "metadata": {
        "id": "PPpHGke1MG51",
        "outputId": "ada4af69-bbac-4df9-dac1-67fa9851e2ac",
        "colab": {
          "base_uri": "https://localhost:8080/"
        }
      },
      "execution_count": 2,
      "outputs": [
        {
          "output_type": "stream",
          "name": "stdout",
          "text": [
            "Helloo test colab\n"
          ]
        }
      ]
    }
  ]
}